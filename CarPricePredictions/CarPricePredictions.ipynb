{
 "cells": [
  {
   "cell_type": "markdown",
   "id": "0b71f33a-335f-460a-a746-be5693f435b1",
   "metadata": {},
   "source": [
    "# Car Prices Predictions\n",
    "- we are trying to predict the price of a car beaced on several features"
   ]
  },
  {
   "cell_type": "markdown",
   "id": "0f1c6117-05ee-44a0-970f-ab28855d21b0",
   "metadata": {},
   "source": [
    "### Loading the dataset"
   ]
  },
  {
   "cell_type": "code",
   "execution_count": 2,
   "id": "6cdbee9d-cc38-47a3-a9fe-32d6816706b8",
   "metadata": {},
   "outputs": [],
   "source": [
    "import pandas as pd\n",
    "import numpy as np\n",
    "import statsmodels.api as sm\n",
    "import matplotlib.pyplot as plt\n",
    "from sklearn.linear_model import LinearRegression\n",
    "import seaborn as sns\n",
    "sns.set()"
   ]
  },
  {
   "cell_type": "code",
   "execution_count": 85,
   "id": "792738bc-1878-47d5-8dd5-f2858b80c8f6",
   "metadata": {},
   "outputs": [
    {
     "data": {
      "text/html": [
       "<div>\n",
       "<style scoped>\n",
       "    .dataframe tbody tr th:only-of-type {\n",
       "        vertical-align: middle;\n",
       "    }\n",
       "\n",
       "    .dataframe tbody tr th {\n",
       "        vertical-align: top;\n",
       "    }\n",
       "\n",
       "    .dataframe thead th {\n",
       "        text-align: right;\n",
       "    }\n",
       "</style>\n",
       "<table border=\"1\" class=\"dataframe\">\n",
       "  <thead>\n",
       "    <tr style=\"text-align: right;\">\n",
       "      <th></th>\n",
       "      <th>Make</th>\n",
       "      <th>Model</th>\n",
       "      <th>Year</th>\n",
       "      <th>Engine Fuel Type</th>\n",
       "      <th>Engine HP</th>\n",
       "      <th>Engine Cylinders</th>\n",
       "      <th>Transmission Type</th>\n",
       "      <th>Driven_Wheels</th>\n",
       "      <th>Number of Doors</th>\n",
       "      <th>Market Category</th>\n",
       "      <th>Vehicle Size</th>\n",
       "      <th>Vehicle Style</th>\n",
       "      <th>highway MPG</th>\n",
       "      <th>city mpg</th>\n",
       "      <th>Popularity</th>\n",
       "      <th>MSRP</th>\n",
       "    </tr>\n",
       "  </thead>\n",
       "  <tbody>\n",
       "    <tr>\n",
       "      <th>0</th>\n",
       "      <td>BMW</td>\n",
       "      <td>1 Series M</td>\n",
       "      <td>2011</td>\n",
       "      <td>premium unleaded (required)</td>\n",
       "      <td>335.0</td>\n",
       "      <td>6.0</td>\n",
       "      <td>MANUAL</td>\n",
       "      <td>rear wheel drive</td>\n",
       "      <td>2.0</td>\n",
       "      <td>Factory Tuner,Luxury,High-Performance</td>\n",
       "      <td>Compact</td>\n",
       "      <td>Coupe</td>\n",
       "      <td>26</td>\n",
       "      <td>19</td>\n",
       "      <td>3916</td>\n",
       "      <td>46135</td>\n",
       "    </tr>\n",
       "    <tr>\n",
       "      <th>1</th>\n",
       "      <td>BMW</td>\n",
       "      <td>1 Series</td>\n",
       "      <td>2011</td>\n",
       "      <td>premium unleaded (required)</td>\n",
       "      <td>300.0</td>\n",
       "      <td>6.0</td>\n",
       "      <td>MANUAL</td>\n",
       "      <td>rear wheel drive</td>\n",
       "      <td>2.0</td>\n",
       "      <td>Luxury,Performance</td>\n",
       "      <td>Compact</td>\n",
       "      <td>Convertible</td>\n",
       "      <td>28</td>\n",
       "      <td>19</td>\n",
       "      <td>3916</td>\n",
       "      <td>40650</td>\n",
       "    </tr>\n",
       "    <tr>\n",
       "      <th>2</th>\n",
       "      <td>BMW</td>\n",
       "      <td>1 Series</td>\n",
       "      <td>2011</td>\n",
       "      <td>premium unleaded (required)</td>\n",
       "      <td>300.0</td>\n",
       "      <td>6.0</td>\n",
       "      <td>MANUAL</td>\n",
       "      <td>rear wheel drive</td>\n",
       "      <td>2.0</td>\n",
       "      <td>Luxury,High-Performance</td>\n",
       "      <td>Compact</td>\n",
       "      <td>Coupe</td>\n",
       "      <td>28</td>\n",
       "      <td>20</td>\n",
       "      <td>3916</td>\n",
       "      <td>36350</td>\n",
       "    </tr>\n",
       "    <tr>\n",
       "      <th>3</th>\n",
       "      <td>BMW</td>\n",
       "      <td>1 Series</td>\n",
       "      <td>2011</td>\n",
       "      <td>premium unleaded (required)</td>\n",
       "      <td>230.0</td>\n",
       "      <td>6.0</td>\n",
       "      <td>MANUAL</td>\n",
       "      <td>rear wheel drive</td>\n",
       "      <td>2.0</td>\n",
       "      <td>Luxury,Performance</td>\n",
       "      <td>Compact</td>\n",
       "      <td>Coupe</td>\n",
       "      <td>28</td>\n",
       "      <td>18</td>\n",
       "      <td>3916</td>\n",
       "      <td>29450</td>\n",
       "    </tr>\n",
       "    <tr>\n",
       "      <th>4</th>\n",
       "      <td>BMW</td>\n",
       "      <td>1 Series</td>\n",
       "      <td>2011</td>\n",
       "      <td>premium unleaded (required)</td>\n",
       "      <td>230.0</td>\n",
       "      <td>6.0</td>\n",
       "      <td>MANUAL</td>\n",
       "      <td>rear wheel drive</td>\n",
       "      <td>2.0</td>\n",
       "      <td>Luxury</td>\n",
       "      <td>Compact</td>\n",
       "      <td>Convertible</td>\n",
       "      <td>28</td>\n",
       "      <td>18</td>\n",
       "      <td>3916</td>\n",
       "      <td>34500</td>\n",
       "    </tr>\n",
       "  </tbody>\n",
       "</table>\n",
       "</div>"
      ],
      "text/plain": [
       "  Make       Model  Year             Engine Fuel Type  Engine HP  \\\n",
       "0  BMW  1 Series M  2011  premium unleaded (required)      335.0   \n",
       "1  BMW    1 Series  2011  premium unleaded (required)      300.0   \n",
       "2  BMW    1 Series  2011  premium unleaded (required)      300.0   \n",
       "3  BMW    1 Series  2011  premium unleaded (required)      230.0   \n",
       "4  BMW    1 Series  2011  premium unleaded (required)      230.0   \n",
       "\n",
       "   Engine Cylinders Transmission Type     Driven_Wheels  Number of Doors  \\\n",
       "0               6.0            MANUAL  rear wheel drive              2.0   \n",
       "1               6.0            MANUAL  rear wheel drive              2.0   \n",
       "2               6.0            MANUAL  rear wheel drive              2.0   \n",
       "3               6.0            MANUAL  rear wheel drive              2.0   \n",
       "4               6.0            MANUAL  rear wheel drive              2.0   \n",
       "\n",
       "                         Market Category Vehicle Size Vehicle Style  \\\n",
       "0  Factory Tuner,Luxury,High-Performance      Compact         Coupe   \n",
       "1                     Luxury,Performance      Compact   Convertible   \n",
       "2                Luxury,High-Performance      Compact         Coupe   \n",
       "3                     Luxury,Performance      Compact         Coupe   \n",
       "4                                 Luxury      Compact   Convertible   \n",
       "\n",
       "   highway MPG  city mpg  Popularity   MSRP  \n",
       "0           26        19        3916  46135  \n",
       "1           28        19        3916  40650  \n",
       "2           28        20        3916  36350  \n",
       "3           28        18        3916  29450  \n",
       "4           28        18        3916  34500  "
      ]
     },
     "execution_count": 85,
     "metadata": {},
     "output_type": "execute_result"
    }
   ],
   "source": [
    "raw = pd.read_csv('C:/Users/tomas/OneDrive/Plocha/CarPricePredictions/data.csv')\n",
    "raw.head()"
   ]
  },
  {
   "cell_type": "markdown",
   "id": "687fb9cd-02b3-46ae-9230-94b90547fddb",
   "metadata": {},
   "source": [
    "### Preprocessing"
   ]
  },
  {
   "cell_type": "code",
   "execution_count": 18,
   "id": "bae44088-7f39-4ca7-a0b2-b8a13504ce5a",
   "metadata": {},
   "outputs": [
    {
     "data": {
      "text/plain": [
       "(11914, 16)"
      ]
     },
     "execution_count": 18,
     "metadata": {},
     "output_type": "execute_result"
    }
   ],
   "source": [
    "raw.shape"
   ]
  },
  {
   "cell_type": "markdown",
   "id": "92ba290d-71c7-414d-8aeb-e402e3346e23",
   "metadata": {},
   "source": [
    "#### replacing white spaces"
   ]
  },
  {
   "cell_type": "code",
   "execution_count": 13,
   "id": "bdb5b322-4dbf-4f64-8815-f92416f8ae2b",
   "metadata": {},
   "outputs": [
    {
     "data": {
      "text/plain": [
       "Index(['Make', 'Model', 'Year', 'Engine Fuel Type', 'Engine HP',\n",
       "       'Engine Cylinders', 'Transmission Type', 'Driven_Wheels',\n",
       "       'Number of Doors', 'Market Category', 'Vehicle Size', 'Vehicle Style',\n",
       "       'highway MPG', 'city mpg', 'Popularity', 'MSRP'],\n",
       "      dtype='object')"
      ]
     },
     "execution_count": 13,
     "metadata": {},
     "output_type": "execute_result"
    }
   ],
   "source": [
    "raw.columns"
   ]
  },
  {
   "cell_type": "code",
   "execution_count": 86,
   "id": "33bfec33-3253-4496-91e9-c8d0a07c323b",
   "metadata": {},
   "outputs": [],
   "source": [
    "raw.columns = raw.columns.str.replace(' ', '_')"
   ]
  },
  {
   "cell_type": "code",
   "execution_count": 15,
   "id": "b5d87932-4889-4b9b-a821-eb48609f0608",
   "metadata": {},
   "outputs": [
    {
     "data": {
      "text/plain": [
       "Index(['Make', 'Model', 'Year', 'Engine_Fuel_Type', 'Engine_HP',\n",
       "       'Engine_Cylinders', 'Transmission_Type', 'Driven_Wheels',\n",
       "       'Number_of_Doors', 'Market_Category', 'Vehicle_Size', 'Vehicle_Style',\n",
       "       'highway_MPG', 'city_mpg', 'Popularity', 'MSRP'],\n",
       "      dtype='object')"
      ]
     },
     "execution_count": 15,
     "metadata": {},
     "output_type": "execute_result"
    }
   ],
   "source": [
    "raw.columns"
   ]
  },
  {
   "cell_type": "markdown",
   "id": "2fbfcbbb-8998-48ed-a4b2-4f9d77dce420",
   "metadata": {},
   "source": [
    "#### Solving null values"
   ]
  },
  {
   "cell_type": "code",
   "execution_count": 17,
   "id": "2dfd9b58-2dca-464d-87c0-2d2c5eee8c91",
   "metadata": {},
   "outputs": [
    {
     "data": {
      "text/plain": [
       "Make                    0\n",
       "Model                   0\n",
       "Year                    0\n",
       "Engine_Fuel_Type        3\n",
       "Engine_HP              69\n",
       "Engine_Cylinders       30\n",
       "Transmission_Type       0\n",
       "Driven_Wheels           0\n",
       "Number_of_Doors         6\n",
       "Market_Category      3742\n",
       "Vehicle_Size            0\n",
       "Vehicle_Style           0\n",
       "highway_MPG             0\n",
       "city_mpg                0\n",
       "Popularity              0\n",
       "MSRP                    0\n",
       "dtype: int64"
      ]
     },
     "execution_count": 17,
     "metadata": {},
     "output_type": "execute_result"
    }
   ],
   "source": [
    "raw.isnull().sum()"
   ]
  },
  {
   "cell_type": "code",
   "execution_count": 20,
   "id": "4c202b0a-f49b-4eca-9491-496e9873ffb8",
   "metadata": {},
   "outputs": [
    {
     "data": {
      "text/plain": [
       "array(['Factory Tuner,Luxury,High-Performance', 'Luxury,Performance',\n",
       "       'Luxury,High-Performance', 'Luxury', 'Performance', 'Flex Fuel',\n",
       "       'Flex Fuel,Performance', nan, 'Hatchback',\n",
       "       'Hatchback,Luxury,Performance', 'Hatchback,Luxury',\n",
       "       'Luxury,High-Performance,Hybrid', 'Diesel,Luxury',\n",
       "       'Hatchback,Performance', 'Hatchback,Factory Tuner,Performance',\n",
       "       'High-Performance', 'Factory Tuner,High-Performance',\n",
       "       'Exotic,High-Performance', 'Exotic,Factory Tuner,High-Performance',\n",
       "       'Factory Tuner,Performance', 'Crossover', 'Exotic,Luxury',\n",
       "       'Exotic,Luxury,High-Performance', 'Exotic,Luxury,Performance',\n",
       "       'Factory Tuner,Luxury,Performance', 'Flex Fuel,Luxury',\n",
       "       'Crossover,Luxury', 'Hatchback,Factory Tuner,Luxury,Performance',\n",
       "       'Crossover,Hatchback', 'Hybrid', 'Luxury,Performance,Hybrid',\n",
       "       'Crossover,Luxury,Performance,Hybrid',\n",
       "       'Crossover,Luxury,Performance',\n",
       "       'Exotic,Factory Tuner,Luxury,High-Performance',\n",
       "       'Flex Fuel,Luxury,High-Performance', 'Crossover,Flex Fuel',\n",
       "       'Diesel', 'Hatchback,Diesel', 'Crossover,Luxury,Diesel',\n",
       "       'Crossover,Luxury,High-Performance',\n",
       "       'Exotic,Flex Fuel,Factory Tuner,Luxury,High-Performance',\n",
       "       'Exotic,Flex Fuel,Luxury,High-Performance',\n",
       "       'Exotic,Factory Tuner,Luxury,Performance', 'Hatchback,Hybrid',\n",
       "       'Crossover,Hybrid', 'Hatchback,Luxury,Hybrid',\n",
       "       'Flex Fuel,Luxury,Performance', 'Crossover,Performance',\n",
       "       'Luxury,Hybrid', 'Crossover,Flex Fuel,Luxury,Performance',\n",
       "       'Crossover,Flex Fuel,Luxury', 'Crossover,Flex Fuel,Performance',\n",
       "       'Hatchback,Factory Tuner,High-Performance', 'Hatchback,Flex Fuel',\n",
       "       'Factory Tuner,Luxury',\n",
       "       'Crossover,Factory Tuner,Luxury,High-Performance',\n",
       "       'Crossover,Factory Tuner,Luxury,Performance',\n",
       "       'Crossover,Hatchback,Factory Tuner,Performance',\n",
       "       'Crossover,Hatchback,Performance', 'Flex Fuel,Hybrid',\n",
       "       'Flex Fuel,Performance,Hybrid',\n",
       "       'Crossover,Exotic,Luxury,High-Performance',\n",
       "       'Crossover,Exotic,Luxury,Performance', 'Exotic,Performance',\n",
       "       'Exotic,Luxury,High-Performance,Hybrid', 'Crossover,Luxury,Hybrid',\n",
       "       'Flex Fuel,Factory Tuner,Luxury,High-Performance',\n",
       "       'Performance,Hybrid', 'Crossover,Factory Tuner,Performance',\n",
       "       'Crossover,Diesel', 'Flex Fuel,Diesel',\n",
       "       'Crossover,Hatchback,Luxury'], dtype=object)"
      ]
     },
     "execution_count": 20,
     "metadata": {},
     "output_type": "execute_result"
    }
   ],
   "source": [
    "raw['Market_Category'].unique()"
   ]
  },
  {
   "cell_type": "markdown",
   "id": "03b5672a-bbfa-4f68-96eb-9a43f30fdc57",
   "metadata": {},
   "source": [
    "- 'Market_Category' has too many missing values, we cannot delete them all as it would effect the overal model\n",
    "    - it also includes 71 groups, most of them repeats themselves\n",
    "    - the best solution is to eliminate this feature and do not inlcude in the MLR"
   ]
  },
  {
   "cell_type": "code",
   "execution_count": 87,
   "id": "05d1e77e-22f4-4b95-8d5a-c3f0c888482d",
   "metadata": {},
   "outputs": [],
   "source": [
    "raw = raw.drop(['Market_Category'], axis=1)"
   ]
  },
  {
   "cell_type": "code",
   "execution_count": 22,
   "id": "2dcae701-ae19-4095-b6c9-71cdae8206df",
   "metadata": {},
   "outputs": [
    {
     "data": {
      "text/plain": [
       "Make                  0\n",
       "Model                 0\n",
       "Year                  0\n",
       "Engine_Fuel_Type      3\n",
       "Engine_HP            69\n",
       "Engine_Cylinders     30\n",
       "Transmission_Type     0\n",
       "Driven_Wheels         0\n",
       "Number_of_Doors       6\n",
       "Vehicle_Size          0\n",
       "Vehicle_Style         0\n",
       "highway_MPG           0\n",
       "city_mpg              0\n",
       "Popularity            0\n",
       "MSRP                  0\n",
       "dtype: int64"
      ]
     },
     "execution_count": 22,
     "metadata": {},
     "output_type": "execute_result"
    }
   ],
   "source": [
    "raw.isnull().sum()"
   ]
  },
  {
   "cell_type": "markdown",
   "id": "dd6c8147-ccc7-4849-873e-03201453cf95",
   "metadata": {},
   "source": [
    "- now we can drop the null values, since there is only few of them"
   ]
  },
  {
   "cell_type": "code",
   "execution_count": 88,
   "id": "4a4f11c0-2da9-4258-a3f6-073868f25c08",
   "metadata": {},
   "outputs": [],
   "source": [
    "raw = raw.dropna(axis=0)"
   ]
  },
  {
   "cell_type": "code",
   "execution_count": 27,
   "id": "47939518-0a64-482f-9609-190b56fb89e2",
   "metadata": {},
   "outputs": [
    {
     "data": {
      "text/html": [
       "<div>\n",
       "<style scoped>\n",
       "    .dataframe tbody tr th:only-of-type {\n",
       "        vertical-align: middle;\n",
       "    }\n",
       "\n",
       "    .dataframe tbody tr th {\n",
       "        vertical-align: top;\n",
       "    }\n",
       "\n",
       "    .dataframe thead th {\n",
       "        text-align: right;\n",
       "    }\n",
       "</style>\n",
       "<table border=\"1\" class=\"dataframe\">\n",
       "  <thead>\n",
       "    <tr style=\"text-align: right;\">\n",
       "      <th></th>\n",
       "      <th>Make</th>\n",
       "      <th>Model</th>\n",
       "      <th>Year</th>\n",
       "      <th>Engine_Fuel_Type</th>\n",
       "      <th>Engine_HP</th>\n",
       "      <th>Engine_Cylinders</th>\n",
       "      <th>Transmission_Type</th>\n",
       "      <th>Driven_Wheels</th>\n",
       "      <th>Number_of_Doors</th>\n",
       "      <th>Vehicle_Size</th>\n",
       "      <th>Vehicle_Style</th>\n",
       "      <th>highway_MPG</th>\n",
       "      <th>city_mpg</th>\n",
       "      <th>Popularity</th>\n",
       "      <th>MSRP</th>\n",
       "    </tr>\n",
       "  </thead>\n",
       "  <tbody>\n",
       "    <tr>\n",
       "      <th>count</th>\n",
       "      <td>11812</td>\n",
       "      <td>11812</td>\n",
       "      <td>11812.000000</td>\n",
       "      <td>11812</td>\n",
       "      <td>11812.000000</td>\n",
       "      <td>11812.000000</td>\n",
       "      <td>11812</td>\n",
       "      <td>11812</td>\n",
       "      <td>11812.000000</td>\n",
       "      <td>11812</td>\n",
       "      <td>11812</td>\n",
       "      <td>11812.000000</td>\n",
       "      <td>11812.000000</td>\n",
       "      <td>11812.000000</td>\n",
       "      <td>1.181200e+04</td>\n",
       "    </tr>\n",
       "    <tr>\n",
       "      <th>unique</th>\n",
       "      <td>47</td>\n",
       "      <td>904</td>\n",
       "      <td>NaN</td>\n",
       "      <td>9</td>\n",
       "      <td>NaN</td>\n",
       "      <td>NaN</td>\n",
       "      <td>5</td>\n",
       "      <td>4</td>\n",
       "      <td>NaN</td>\n",
       "      <td>3</td>\n",
       "      <td>16</td>\n",
       "      <td>NaN</td>\n",
       "      <td>NaN</td>\n",
       "      <td>NaN</td>\n",
       "      <td>NaN</td>\n",
       "    </tr>\n",
       "    <tr>\n",
       "      <th>top</th>\n",
       "      <td>Chevrolet</td>\n",
       "      <td>Silverado 1500</td>\n",
       "      <td>NaN</td>\n",
       "      <td>regular unleaded</td>\n",
       "      <td>NaN</td>\n",
       "      <td>NaN</td>\n",
       "      <td>AUTOMATIC</td>\n",
       "      <td>front wheel drive</td>\n",
       "      <td>NaN</td>\n",
       "      <td>Compact</td>\n",
       "      <td>Sedan</td>\n",
       "      <td>NaN</td>\n",
       "      <td>NaN</td>\n",
       "      <td>NaN</td>\n",
       "      <td>NaN</td>\n",
       "    </tr>\n",
       "    <tr>\n",
       "      <th>freq</th>\n",
       "      <td>1115</td>\n",
       "      <td>156</td>\n",
       "      <td>NaN</td>\n",
       "      <td>7155</td>\n",
       "      <td>NaN</td>\n",
       "      <td>NaN</td>\n",
       "      <td>8231</td>\n",
       "      <td>4732</td>\n",
       "      <td>NaN</td>\n",
       "      <td>4708</td>\n",
       "      <td>3013</td>\n",
       "      <td>NaN</td>\n",
       "      <td>NaN</td>\n",
       "      <td>NaN</td>\n",
       "      <td>NaN</td>\n",
       "    </tr>\n",
       "    <tr>\n",
       "      <th>mean</th>\n",
       "      <td>NaN</td>\n",
       "      <td>NaN</td>\n",
       "      <td>2010.361581</td>\n",
       "      <td>NaN</td>\n",
       "      <td>249.504487</td>\n",
       "      <td>5.649424</td>\n",
       "      <td>NaN</td>\n",
       "      <td>NaN</td>\n",
       "      <td>3.432526</td>\n",
       "      <td>NaN</td>\n",
       "      <td>NaN</td>\n",
       "      <td>26.320945</td>\n",
       "      <td>19.328141</td>\n",
       "      <td>1553.679902</td>\n",
       "      <td>4.055994e+04</td>\n",
       "    </tr>\n",
       "    <tr>\n",
       "      <th>std</th>\n",
       "      <td>NaN</td>\n",
       "      <td>NaN</td>\n",
       "      <td>7.594647</td>\n",
       "      <td>NaN</td>\n",
       "      <td>109.206947</td>\n",
       "      <td>1.751646</td>\n",
       "      <td>NaN</td>\n",
       "      <td>NaN</td>\n",
       "      <td>0.882919</td>\n",
       "      <td>NaN</td>\n",
       "      <td>NaN</td>\n",
       "      <td>7.443589</td>\n",
       "      <td>6.527734</td>\n",
       "      <td>1440.067820</td>\n",
       "      <td>6.028413e+04</td>\n",
       "    </tr>\n",
       "    <tr>\n",
       "      <th>min</th>\n",
       "      <td>NaN</td>\n",
       "      <td>NaN</td>\n",
       "      <td>1990.000000</td>\n",
       "      <td>NaN</td>\n",
       "      <td>55.000000</td>\n",
       "      <td>0.000000</td>\n",
       "      <td>NaN</td>\n",
       "      <td>NaN</td>\n",
       "      <td>2.000000</td>\n",
       "      <td>NaN</td>\n",
       "      <td>NaN</td>\n",
       "      <td>12.000000</td>\n",
       "      <td>7.000000</td>\n",
       "      <td>2.000000</td>\n",
       "      <td>2.000000e+03</td>\n",
       "    </tr>\n",
       "    <tr>\n",
       "      <th>25%</th>\n",
       "      <td>NaN</td>\n",
       "      <td>NaN</td>\n",
       "      <td>2007.000000</td>\n",
       "      <td>NaN</td>\n",
       "      <td>170.000000</td>\n",
       "      <td>4.000000</td>\n",
       "      <td>NaN</td>\n",
       "      <td>NaN</td>\n",
       "      <td>2.000000</td>\n",
       "      <td>NaN</td>\n",
       "      <td>NaN</td>\n",
       "      <td>22.000000</td>\n",
       "      <td>16.000000</td>\n",
       "      <td>549.000000</td>\n",
       "      <td>2.099000e+04</td>\n",
       "    </tr>\n",
       "    <tr>\n",
       "      <th>50%</th>\n",
       "      <td>NaN</td>\n",
       "      <td>NaN</td>\n",
       "      <td>2015.000000</td>\n",
       "      <td>NaN</td>\n",
       "      <td>227.000000</td>\n",
       "      <td>6.000000</td>\n",
       "      <td>NaN</td>\n",
       "      <td>NaN</td>\n",
       "      <td>4.000000</td>\n",
       "      <td>NaN</td>\n",
       "      <td>NaN</td>\n",
       "      <td>26.000000</td>\n",
       "      <td>18.000000</td>\n",
       "      <td>1385.000000</td>\n",
       "      <td>2.997000e+04</td>\n",
       "    </tr>\n",
       "    <tr>\n",
       "      <th>75%</th>\n",
       "      <td>NaN</td>\n",
       "      <td>NaN</td>\n",
       "      <td>2016.000000</td>\n",
       "      <td>NaN</td>\n",
       "      <td>300.000000</td>\n",
       "      <td>6.000000</td>\n",
       "      <td>NaN</td>\n",
       "      <td>NaN</td>\n",
       "      <td>4.000000</td>\n",
       "      <td>NaN</td>\n",
       "      <td>NaN</td>\n",
       "      <td>30.000000</td>\n",
       "      <td>22.000000</td>\n",
       "      <td>2009.000000</td>\n",
       "      <td>4.220500e+04</td>\n",
       "    </tr>\n",
       "    <tr>\n",
       "      <th>max</th>\n",
       "      <td>NaN</td>\n",
       "      <td>NaN</td>\n",
       "      <td>2017.000000</td>\n",
       "      <td>NaN</td>\n",
       "      <td>1001.000000</td>\n",
       "      <td>16.000000</td>\n",
       "      <td>NaN</td>\n",
       "      <td>NaN</td>\n",
       "      <td>4.000000</td>\n",
       "      <td>NaN</td>\n",
       "      <td>NaN</td>\n",
       "      <td>354.000000</td>\n",
       "      <td>137.000000</td>\n",
       "      <td>5657.000000</td>\n",
       "      <td>2.065902e+06</td>\n",
       "    </tr>\n",
       "  </tbody>\n",
       "</table>\n",
       "</div>"
      ],
      "text/plain": [
       "             Make           Model          Year  Engine_Fuel_Type  \\\n",
       "count       11812           11812  11812.000000             11812   \n",
       "unique         47             904           NaN                 9   \n",
       "top     Chevrolet  Silverado 1500           NaN  regular unleaded   \n",
       "freq         1115             156           NaN              7155   \n",
       "mean          NaN             NaN   2010.361581               NaN   \n",
       "std           NaN             NaN      7.594647               NaN   \n",
       "min           NaN             NaN   1990.000000               NaN   \n",
       "25%           NaN             NaN   2007.000000               NaN   \n",
       "50%           NaN             NaN   2015.000000               NaN   \n",
       "75%           NaN             NaN   2016.000000               NaN   \n",
       "max           NaN             NaN   2017.000000               NaN   \n",
       "\n",
       "           Engine_HP  Engine_Cylinders Transmission_Type      Driven_Wheels  \\\n",
       "count   11812.000000      11812.000000             11812              11812   \n",
       "unique           NaN               NaN                 5                  4   \n",
       "top              NaN               NaN         AUTOMATIC  front wheel drive   \n",
       "freq             NaN               NaN              8231               4732   \n",
       "mean      249.504487          5.649424               NaN                NaN   \n",
       "std       109.206947          1.751646               NaN                NaN   \n",
       "min        55.000000          0.000000               NaN                NaN   \n",
       "25%       170.000000          4.000000               NaN                NaN   \n",
       "50%       227.000000          6.000000               NaN                NaN   \n",
       "75%       300.000000          6.000000               NaN                NaN   \n",
       "max      1001.000000         16.000000               NaN                NaN   \n",
       "\n",
       "        Number_of_Doors Vehicle_Size Vehicle_Style   highway_MPG  \\\n",
       "count      11812.000000        11812         11812  11812.000000   \n",
       "unique              NaN            3            16           NaN   \n",
       "top                 NaN      Compact         Sedan           NaN   \n",
       "freq                NaN         4708          3013           NaN   \n",
       "mean           3.432526          NaN           NaN     26.320945   \n",
       "std            0.882919          NaN           NaN      7.443589   \n",
       "min            2.000000          NaN           NaN     12.000000   \n",
       "25%            2.000000          NaN           NaN     22.000000   \n",
       "50%            4.000000          NaN           NaN     26.000000   \n",
       "75%            4.000000          NaN           NaN     30.000000   \n",
       "max            4.000000          NaN           NaN    354.000000   \n",
       "\n",
       "            city_mpg    Popularity          MSRP  \n",
       "count   11812.000000  11812.000000  1.181200e+04  \n",
       "unique           NaN           NaN           NaN  \n",
       "top              NaN           NaN           NaN  \n",
       "freq             NaN           NaN           NaN  \n",
       "mean       19.328141   1553.679902  4.055994e+04  \n",
       "std         6.527734   1440.067820  6.028413e+04  \n",
       "min         7.000000      2.000000  2.000000e+03  \n",
       "25%        16.000000    549.000000  2.099000e+04  \n",
       "50%        18.000000   1385.000000  2.997000e+04  \n",
       "75%        22.000000   2009.000000  4.220500e+04  \n",
       "max       137.000000   5657.000000  2.065902e+06  "
      ]
     },
     "execution_count": 27,
     "metadata": {},
     "output_type": "execute_result"
    }
   ],
   "source": [
    "raw.describe(include='all')"
   ]
  },
  {
   "cell_type": "code",
   "execution_count": 89,
   "id": "bb729935-6a66-4115-9c45-2eaa8ff02be0",
   "metadata": {},
   "outputs": [],
   "source": [
    "df = raw.copy()"
   ]
  },
  {
   "cell_type": "markdown",
   "id": "cc92e511-cf1d-4db2-937e-a1882f3aea78",
   "metadata": {},
   "source": [
    "### Numerical features"
   ]
  },
  {
   "cell_type": "markdown",
   "id": "0d472b80-4bf5-43e7-82a7-61c259bea11b",
   "metadata": {},
   "source": [
    "#### Multicollinearity"
   ]
  },
  {
   "cell_type": "code",
   "execution_count": 33,
   "id": "29b51a06-b5a1-4be7-ada6-b13af0c0addc",
   "metadata": {},
   "outputs": [
    {
     "data": {
      "text/html": [
       "<style type=\"text/css\">\n",
       "#T_273b7_row0_col0, #T_273b7_row1_col1, #T_273b7_row2_col2, #T_273b7_row3_col3, #T_273b7_row4_col4, #T_273b7_row5_col5, #T_273b7_row6_col6, #T_273b7_row7_col7 {\n",
       "  background-color: #b40426;\n",
       "  color: #f1f1f1;\n",
       "}\n",
       "#T_273b7_row0_col1, #T_273b7_row0_col4 {\n",
       "  background-color: #ead4c8;\n",
       "  color: #000000;\n",
       "}\n",
       "#T_273b7_row0_col2, #T_273b7_row0_col7 {\n",
       "  background-color: #b6cefa;\n",
       "  color: #000000;\n",
       "}\n",
       "#T_273b7_row0_col3 {\n",
       "  background-color: #b1cbfc;\n",
       "  color: #000000;\n",
       "}\n",
       "#T_273b7_row0_col5 {\n",
       "  background-color: #e5d8d1;\n",
       "  color: #000000;\n",
       "}\n",
       "#T_273b7_row0_col6 {\n",
       "  background-color: #5f7fe8;\n",
       "  color: #f1f1f1;\n",
       "}\n",
       "#T_273b7_row1_col0 {\n",
       "  background-color: #b7cff9;\n",
       "  color: #000000;\n",
       "}\n",
       "#T_273b7_row1_col2 {\n",
       "  background-color: #e0654f;\n",
       "  color: #f1f1f1;\n",
       "}\n",
       "#T_273b7_row1_col3 {\n",
       "  background-color: #445acc;\n",
       "  color: #f1f1f1;\n",
       "}\n",
       "#T_273b7_row1_col4 {\n",
       "  background-color: #6282ea;\n",
       "  color: #f1f1f1;\n",
       "}\n",
       "#T_273b7_row1_col5, #T_273b7_row6_col0 {\n",
       "  background-color: #5a78e4;\n",
       "  color: #f1f1f1;\n",
       "}\n",
       "#T_273b7_row1_col6 {\n",
       "  background-color: #5470de;\n",
       "  color: #f1f1f1;\n",
       "}\n",
       "#T_273b7_row1_col7 {\n",
       "  background-color: #f6a385;\n",
       "  color: #000000;\n",
       "}\n",
       "#T_273b7_row2_col0, #T_273b7_row2_col3, #T_273b7_row2_col4, #T_273b7_row2_col5, #T_273b7_row3_col6, #T_273b7_row5_col1, #T_273b7_row5_col2, #T_273b7_row5_col7, #T_273b7_row7_col6 {\n",
       "  background-color: #3b4cc0;\n",
       "  color: #f1f1f1;\n",
       "}\n",
       "#T_273b7_row2_col1 {\n",
       "  background-color: #e36c55;\n",
       "  color: #f1f1f1;\n",
       "}\n",
       "#T_273b7_row2_col6 {\n",
       "  background-color: #5673e0;\n",
       "  color: #f1f1f1;\n",
       "}\n",
       "#T_273b7_row2_col7 {\n",
       "  background-color: #f5c4ac;\n",
       "  color: #000000;\n",
       "}\n",
       "#T_273b7_row3_col0 {\n",
       "  background-color: #9abbff;\n",
       "  color: #000000;\n",
       "}\n",
       "#T_273b7_row3_col1 {\n",
       "  background-color: #8caffe;\n",
       "  color: #000000;\n",
       "}\n",
       "#T_273b7_row3_col2 {\n",
       "  background-color: #a1c0ff;\n",
       "  color: #000000;\n",
       "}\n",
       "#T_273b7_row3_col4 {\n",
       "  background-color: #d2dbe8;\n",
       "  color: #000000;\n",
       "}\n",
       "#T_273b7_row3_col5 {\n",
       "  background-color: #d6dce4;\n",
       "  color: #000000;\n",
       "}\n",
       "#T_273b7_row3_col7 {\n",
       "  background-color: #536edd;\n",
       "  color: #f1f1f1;\n",
       "}\n",
       "#T_273b7_row4_col0 {\n",
       "  background-color: #9fbfff;\n",
       "  color: #000000;\n",
       "}\n",
       "#T_273b7_row4_col1, #T_273b7_row5_col6 {\n",
       "  background-color: #455cce;\n",
       "  color: #f1f1f1;\n",
       "}\n",
       "#T_273b7_row4_col2, #T_273b7_row7_col3 {\n",
       "  background-color: #3d50c3;\n",
       "  color: #f1f1f1;\n",
       "}\n",
       "#T_273b7_row4_col3 {\n",
       "  background-color: #85a8fc;\n",
       "  color: #f1f1f1;\n",
       "}\n",
       "#T_273b7_row4_col5 {\n",
       "  background-color: #d44e41;\n",
       "  color: #f1f1f1;\n",
       "}\n",
       "#T_273b7_row4_col6, #T_273b7_row4_col7 {\n",
       "  background-color: #4055c8;\n",
       "  color: #f1f1f1;\n",
       "}\n",
       "#T_273b7_row5_col0, #T_273b7_row7_col4 {\n",
       "  background-color: #90b2fe;\n",
       "  color: #000000;\n",
       "}\n",
       "#T_273b7_row5_col3 {\n",
       "  background-color: #89acfd;\n",
       "  color: #000000;\n",
       "}\n",
       "#T_273b7_row5_col4 {\n",
       "  background-color: #d55042;\n",
       "  color: #f1f1f1;\n",
       "}\n",
       "#T_273b7_row6_col1 {\n",
       "  background-color: #adc9fd;\n",
       "  color: #000000;\n",
       "}\n",
       "#T_273b7_row6_col2 {\n",
       "  background-color: #c5d6f2;\n",
       "  color: #000000;\n",
       "}\n",
       "#T_273b7_row6_col3 {\n",
       "  background-color: #516ddb;\n",
       "  color: #f1f1f1;\n",
       "}\n",
       "#T_273b7_row6_col4 {\n",
       "  background-color: #b5cdfa;\n",
       "  color: #000000;\n",
       "}\n",
       "#T_273b7_row6_col5 {\n",
       "  background-color: #bbd1f8;\n",
       "  color: #000000;\n",
       "}\n",
       "#T_273b7_row6_col7 {\n",
       "  background-color: #6788ee;\n",
       "  color: #f1f1f1;\n",
       "}\n",
       "#T_273b7_row7_col0, #T_273b7_row7_col5 {\n",
       "  background-color: #8db0fe;\n",
       "  color: #000000;\n",
       "}\n",
       "#T_273b7_row7_col1 {\n",
       "  background-color: #f29274;\n",
       "  color: #f1f1f1;\n",
       "}\n",
       "#T_273b7_row7_col2 {\n",
       "  background-color: #f6a586;\n",
       "  color: #000000;\n",
       "}\n",
       "</style>\n",
       "<table id=\"T_273b7\">\n",
       "  <thead>\n",
       "    <tr>\n",
       "      <th class=\"blank level0\" >&nbsp;</th>\n",
       "      <th id=\"T_273b7_level0_col0\" class=\"col_heading level0 col0\" >Year</th>\n",
       "      <th id=\"T_273b7_level0_col1\" class=\"col_heading level0 col1\" >Engine_HP</th>\n",
       "      <th id=\"T_273b7_level0_col2\" class=\"col_heading level0 col2\" >Engine_Cylinders</th>\n",
       "      <th id=\"T_273b7_level0_col3\" class=\"col_heading level0 col3\" >Number_of_Doors</th>\n",
       "      <th id=\"T_273b7_level0_col4\" class=\"col_heading level0 col4\" >highway_MPG</th>\n",
       "      <th id=\"T_273b7_level0_col5\" class=\"col_heading level0 col5\" >city_mpg</th>\n",
       "      <th id=\"T_273b7_level0_col6\" class=\"col_heading level0 col6\" >Popularity</th>\n",
       "      <th id=\"T_273b7_level0_col7\" class=\"col_heading level0 col7\" >MSRP</th>\n",
       "    </tr>\n",
       "  </thead>\n",
       "  <tbody>\n",
       "    <tr>\n",
       "      <th id=\"T_273b7_level0_row0\" class=\"row_heading level0 row0\" >Year</th>\n",
       "      <td id=\"T_273b7_row0_col0\" class=\"data row0 col0\" >1.000000</td>\n",
       "      <td id=\"T_273b7_row0_col1\" class=\"data row0 col1\" >0.352861</td>\n",
       "      <td id=\"T_273b7_row0_col2\" class=\"data row0 col2\" >-0.034455</td>\n",
       "      <td id=\"T_273b7_row0_col3\" class=\"data row0 col3\" >0.262439</td>\n",
       "      <td id=\"T_273b7_row0_col4\" class=\"data row0 col4\" >0.280198</td>\n",
       "      <td id=\"T_273b7_row0_col5\" class=\"data row0 col5\" >0.232388</td>\n",
       "      <td id=\"T_273b7_row0_col6\" class=\"data row0 col6\" >0.073563</td>\n",
       "      <td id=\"T_273b7_row0_col7\" class=\"data row0 col7\" >0.227327</td>\n",
       "    </tr>\n",
       "    <tr>\n",
       "      <th id=\"T_273b7_level0_row1\" class=\"row_heading level0 row1\" >Engine_HP</th>\n",
       "      <td id=\"T_273b7_row1_col0\" class=\"data row1 col0\" >0.352861</td>\n",
       "      <td id=\"T_273b7_row1_col1\" class=\"data row1 col1\" >1.000000</td>\n",
       "      <td id=\"T_273b7_row1_col2\" class=\"data row1 col2\" >0.779862</td>\n",
       "      <td id=\"T_273b7_row1_col3\" class=\"data row1 col3\" >-0.101944</td>\n",
       "      <td id=\"T_273b7_row1_col4\" class=\"data row1 col4\" >-0.414263</td>\n",
       "      <td id=\"T_273b7_row1_col5\" class=\"data row1 col5\" >-0.466033</td>\n",
       "      <td id=\"T_273b7_row1_col6\" class=\"data row1 col6\" >0.036522</td>\n",
       "      <td id=\"T_273b7_row1_col7\" class=\"data row1 col7\" >0.661827</td>\n",
       "    </tr>\n",
       "    <tr>\n",
       "      <th id=\"T_273b7_level0_row2\" class=\"row_heading level0 row2\" >Engine_Cylinders</th>\n",
       "      <td id=\"T_273b7_row2_col0\" class=\"data row2 col0\" >-0.034455</td>\n",
       "      <td id=\"T_273b7_row2_col1\" class=\"data row2 col1\" >0.779862</td>\n",
       "      <td id=\"T_273b7_row2_col2\" class=\"data row2 col2\" >1.000000</td>\n",
       "      <td id=\"T_273b7_row2_col3\" class=\"data row2 col3\" >-0.137624</td>\n",
       "      <td id=\"T_273b7_row2_col4\" class=\"data row2 col4\" >-0.620313</td>\n",
       "      <td id=\"T_273b7_row2_col5\" class=\"data row2 col5\" >-0.637875</td>\n",
       "      <td id=\"T_273b7_row2_col6\" class=\"data row2 col6\" >0.045042</td>\n",
       "      <td id=\"T_273b7_row2_col7\" class=\"data row2 col7\" >0.544002</td>\n",
       "    </tr>\n",
       "    <tr>\n",
       "      <th id=\"T_273b7_level0_row3\" class=\"row_heading level0 row3\" >Number_of_Doors</th>\n",
       "      <td id=\"T_273b7_row3_col0\" class=\"data row3 col0\" >0.262439</td>\n",
       "      <td id=\"T_273b7_row3_col1\" class=\"data row3 col1\" >-0.101944</td>\n",
       "      <td id=\"T_273b7_row3_col2\" class=\"data row3 col2\" >-0.137624</td>\n",
       "      <td id=\"T_273b7_row3_col3\" class=\"data row3 col3\" >1.000000</td>\n",
       "      <td id=\"T_273b7_row3_col4\" class=\"data row3 col4\" >0.120960</td>\n",
       "      <td id=\"T_273b7_row3_col5\" class=\"data row3 col5\" >0.136642</td>\n",
       "      <td id=\"T_273b7_row3_col6\" class=\"data row3 col6\" >-0.049863</td>\n",
       "      <td id=\"T_273b7_row3_col7\" class=\"data row3 col7\" >-0.127316</td>\n",
       "    </tr>\n",
       "    <tr>\n",
       "      <th id=\"T_273b7_level0_row4\" class=\"row_heading level0 row4\" >highway_MPG</th>\n",
       "      <td id=\"T_273b7_row4_col0\" class=\"data row4 col0\" >0.280198</td>\n",
       "      <td id=\"T_273b7_row4_col1\" class=\"data row4 col1\" >-0.414263</td>\n",
       "      <td id=\"T_273b7_row4_col2\" class=\"data row4 col2\" >-0.620313</td>\n",
       "      <td id=\"T_273b7_row4_col3\" class=\"data row4 col3\" >0.120960</td>\n",
       "      <td id=\"T_273b7_row4_col4\" class=\"data row4 col4\" >1.000000</td>\n",
       "      <td id=\"T_273b7_row4_col5\" class=\"data row4 col5\" >0.847023</td>\n",
       "      <td id=\"T_273b7_row4_col6\" class=\"data row4 col6\" >-0.029239</td>\n",
       "      <td id=\"T_273b7_row4_col7\" class=\"data row4 col7\" >-0.198962</td>\n",
       "    </tr>\n",
       "    <tr>\n",
       "      <th id=\"T_273b7_level0_row5\" class=\"row_heading level0 row5\" >city_mpg</th>\n",
       "      <td id=\"T_273b7_row5_col0\" class=\"data row5 col0\" >0.232388</td>\n",
       "      <td id=\"T_273b7_row5_col1\" class=\"data row5 col1\" >-0.466033</td>\n",
       "      <td id=\"T_273b7_row5_col2\" class=\"data row5 col2\" >-0.637875</td>\n",
       "      <td id=\"T_273b7_row5_col3\" class=\"data row5 col3\" >0.136642</td>\n",
       "      <td id=\"T_273b7_row5_col4\" class=\"data row5 col4\" >0.847023</td>\n",
       "      <td id=\"T_273b7_row5_col5\" class=\"data row5 col5\" >1.000000</td>\n",
       "      <td id=\"T_273b7_row5_col6\" class=\"data row5 col6\" >-0.010787</td>\n",
       "      <td id=\"T_273b7_row5_col7\" class=\"data row5 col7\" >-0.225317</td>\n",
       "    </tr>\n",
       "    <tr>\n",
       "      <th id=\"T_273b7_level0_row6\" class=\"row_heading level0 row6\" >Popularity</th>\n",
       "      <td id=\"T_273b7_row6_col0\" class=\"data row6 col0\" >0.073563</td>\n",
       "      <td id=\"T_273b7_row6_col1\" class=\"data row6 col1\" >0.036522</td>\n",
       "      <td id=\"T_273b7_row6_col2\" class=\"data row6 col2\" >0.045042</td>\n",
       "      <td id=\"T_273b7_row6_col3\" class=\"data row6 col3\" >-0.049863</td>\n",
       "      <td id=\"T_273b7_row6_col4\" class=\"data row6 col4\" >-0.029239</td>\n",
       "      <td id=\"T_273b7_row6_col5\" class=\"data row6 col5\" >-0.010787</td>\n",
       "      <td id=\"T_273b7_row6_col6\" class=\"data row6 col6\" >1.000000</td>\n",
       "      <td id=\"T_273b7_row6_col7\" class=\"data row6 col7\" >-0.048609</td>\n",
       "    </tr>\n",
       "    <tr>\n",
       "      <th id=\"T_273b7_level0_row7\" class=\"row_heading level0 row7\" >MSRP</th>\n",
       "      <td id=\"T_273b7_row7_col0\" class=\"data row7 col0\" >0.227327</td>\n",
       "      <td id=\"T_273b7_row7_col1\" class=\"data row7 col1\" >0.661827</td>\n",
       "      <td id=\"T_273b7_row7_col2\" class=\"data row7 col2\" >0.544002</td>\n",
       "      <td id=\"T_273b7_row7_col3\" class=\"data row7 col3\" >-0.127316</td>\n",
       "      <td id=\"T_273b7_row7_col4\" class=\"data row7 col4\" >-0.198962</td>\n",
       "      <td id=\"T_273b7_row7_col5\" class=\"data row7 col5\" >-0.225317</td>\n",
       "      <td id=\"T_273b7_row7_col6\" class=\"data row7 col6\" >-0.048609</td>\n",
       "      <td id=\"T_273b7_row7_col7\" class=\"data row7 col7\" >1.000000</td>\n",
       "    </tr>\n",
       "  </tbody>\n",
       "</table>\n"
      ],
      "text/plain": [
       "<pandas.io.formats.style.Styler at 0x190a01846d0>"
      ]
     },
     "execution_count": 33,
     "metadata": {},
     "output_type": "execute_result"
    }
   ],
   "source": [
    "corr = df.corr()\n",
    "corr.style.background_gradient(cmap='coolwarm')"
   ]
  },
  {
   "cell_type": "markdown",
   "id": "4059ea31-d110-411f-a0a4-69a510d975ce",
   "metadata": {},
   "source": [
    "- there are few feature that seem to be correlated, let's see Variance Inflation Factor"
   ]
  },
  {
   "cell_type": "code",
   "execution_count": 42,
   "id": "2a3aac81-3b7f-40d7-b0f3-e2c021cb7d95",
   "metadata": {},
   "outputs": [
    {
     "data": {
      "text/html": [
       "<div>\n",
       "<style scoped>\n",
       "    .dataframe tbody tr th:only-of-type {\n",
       "        vertical-align: middle;\n",
       "    }\n",
       "\n",
       "    .dataframe tbody tr th {\n",
       "        vertical-align: top;\n",
       "    }\n",
       "\n",
       "    .dataframe thead th {\n",
       "        text-align: right;\n",
       "    }\n",
       "</style>\n",
       "<table border=\"1\" class=\"dataframe\">\n",
       "  <thead>\n",
       "    <tr style=\"text-align: right;\">\n",
       "      <th></th>\n",
       "      <th>VIF</th>\n",
       "      <th>Features</th>\n",
       "    </tr>\n",
       "  </thead>\n",
       "  <tbody>\n",
       "    <tr>\n",
       "      <th>0</th>\n",
       "      <td>84.944501</td>\n",
       "      <td>Year</td>\n",
       "    </tr>\n",
       "    <tr>\n",
       "      <th>1</th>\n",
       "      <td>16.177851</td>\n",
       "      <td>Engine_HP</td>\n",
       "    </tr>\n",
       "    <tr>\n",
       "      <th>2</th>\n",
       "      <td>40.444375</td>\n",
       "      <td>Engine_Cylinders</td>\n",
       "    </tr>\n",
       "    <tr>\n",
       "      <th>3</th>\n",
       "      <td>16.652915</td>\n",
       "      <td>Number_of_Doors</td>\n",
       "    </tr>\n",
       "    <tr>\n",
       "      <th>4</th>\n",
       "      <td>50.877951</td>\n",
       "      <td>highway_MPG</td>\n",
       "    </tr>\n",
       "    <tr>\n",
       "      <th>5</th>\n",
       "      <td>37.585663</td>\n",
       "      <td>city_mpg</td>\n",
       "    </tr>\n",
       "    <tr>\n",
       "      <th>6</th>\n",
       "      <td>2.177573</td>\n",
       "      <td>Popularity</td>\n",
       "    </tr>\n",
       "  </tbody>\n",
       "</table>\n",
       "</div>"
      ],
      "text/plain": [
       "         VIF          Features\n",
       "0  84.944501              Year\n",
       "1  16.177851         Engine_HP\n",
       "2  40.444375  Engine_Cylinders\n",
       "3  16.652915   Number_of_Doors\n",
       "4  50.877951       highway_MPG\n",
       "5  37.585663          city_mpg\n",
       "6   2.177573        Popularity"
      ]
     },
     "execution_count": 42,
     "metadata": {},
     "output_type": "execute_result"
    }
   ],
   "source": [
    "# VIF\n",
    "from statsmodels.stats.outliers_influence import variance_inflation_factor\n",
    "\n",
    "# df[['Year', 'Engine_HP', 'Engine_Cylinders', 'Number_of_Doors', 'highway_MPG', 'city_mpg', 'Popularity']]\n",
    "\n",
    "variables = df[['Year', 'Engine_HP', 'Engine_Cylinders', 'Number_of_Doors', 'highway_MPG', 'city_mpg', 'Popularity']]\n",
    "\n",
    "vif = pd.DataFrame()\n",
    "\n",
    "vif[\"VIF\"] = [variance_inflation_factor(variables.values, i) for i in range(variables.shape[1])]\n",
    "\n",
    "vif[\"Features\"] = variables.columns\n",
    "\n",
    "vif"
   ]
  },
  {
   "cell_type": "markdown",
   "id": "9e0a6be5-2a81-47fe-b4a3-c022e030ca66",
   "metadata": {},
   "source": [
    "- VIF indicates many problematic features\n",
    "- I eliminated those with VIF above 10 in order from the least correlation value with Price\n",
    "- I calculated new VIF everytime I removed a feature\n",
    "- following is the best combination"
   ]
  },
  {
   "cell_type": "code",
   "execution_count": 43,
   "id": "3461d246-f9df-45f8-a20f-991a09aa839c",
   "metadata": {},
   "outputs": [
    {
     "data": {
      "text/html": [
       "<div>\n",
       "<style scoped>\n",
       "    .dataframe tbody tr th:only-of-type {\n",
       "        vertical-align: middle;\n",
       "    }\n",
       "\n",
       "    .dataframe tbody tr th {\n",
       "        vertical-align: top;\n",
       "    }\n",
       "\n",
       "    .dataframe thead th {\n",
       "        text-align: right;\n",
       "    }\n",
       "</style>\n",
       "<table border=\"1\" class=\"dataframe\">\n",
       "  <thead>\n",
       "    <tr style=\"text-align: right;\">\n",
       "      <th></th>\n",
       "      <th>VIF</th>\n",
       "      <th>Features</th>\n",
       "    </tr>\n",
       "  </thead>\n",
       "  <tbody>\n",
       "    <tr>\n",
       "      <th>0</th>\n",
       "      <td>4.521470</td>\n",
       "      <td>Engine_HP</td>\n",
       "    </tr>\n",
       "    <tr>\n",
       "      <th>1</th>\n",
       "      <td>10.957147</td>\n",
       "      <td>Number_of_Doors</td>\n",
       "    </tr>\n",
       "    <tr>\n",
       "      <th>2</th>\n",
       "      <td>7.457938</td>\n",
       "      <td>city_mpg</td>\n",
       "    </tr>\n",
       "    <tr>\n",
       "      <th>3</th>\n",
       "      <td>2.104565</td>\n",
       "      <td>Popularity</td>\n",
       "    </tr>\n",
       "  </tbody>\n",
       "</table>\n",
       "</div>"
      ],
      "text/plain": [
       "         VIF         Features\n",
       "0   4.521470        Engine_HP\n",
       "1  10.957147  Number_of_Doors\n",
       "2   7.457938         city_mpg\n",
       "3   2.104565       Popularity"
      ]
     },
     "execution_count": 43,
     "metadata": {},
     "output_type": "execute_result"
    }
   ],
   "source": [
    "# VIF\n",
    "from statsmodels.stats.outliers_influence import variance_inflation_factor\n",
    "\n",
    "# df[['Year', 'Engine_HP', 'Engine_Cylinders', 'Number_of_Doors', 'highway_MPG', 'city_mpg', 'Popularity']]\n",
    "\n",
    "variables = df[['Engine_HP', 'Number_of_Doors', 'city_mpg', 'Popularity']]\n",
    "\n",
    "vif = pd.DataFrame()\n",
    "\n",
    "vif[\"VIF\"] = [variance_inflation_factor(variables.values, i) for i in range(variables.shape[1])]\n",
    "\n",
    "vif[\"Features\"] = variables.columns\n",
    "\n",
    "vif"
   ]
  },
  {
   "cell_type": "code",
   "execution_count": 90,
   "id": "853dc2e2-14a3-4fd4-8e89-954a705aaf55",
   "metadata": {},
   "outputs": [],
   "source": [
    "df = df.drop(['Year', 'Engine_Cylinders', 'highway_MPG'], axis=1)"
   ]
  },
  {
   "cell_type": "markdown",
   "id": "15a00bae-b5c2-4ddb-b288-69ca6f5bbfb0",
   "metadata": {},
   "source": [
    "### Exploring PDFs"
   ]
  },
  {
   "cell_type": "code",
   "execution_count": 49,
   "id": "0e2b4cbc-1e75-408a-87ab-1e154678b5cf",
   "metadata": {},
   "outputs": [
    {
     "data": {
      "image/png": "[encoded data removed]",
      "text/plain": [
       "<Figure size 1500x300 with 4 Axes>"
      ]
     },
     "metadata": {},
     "output_type": "display_data"
    }
   ],
   "source": [
    "f, (ax1, ax2, ax3, ax4) = plt.subplots(1, 4, sharey=True, figsize =(15,3))\n",
    "ax1.scatter(df['Engine_HP'], df['MSRP'])\n",
    "ax1.set_title('Engine_HP and MSRP')\n",
    "ax2.scatter(df['Number_of_Doors'], df['MSRP'])\n",
    "ax2.set_title('Number_of_Doors and MSRP')\n",
    "ax3.scatter(df['city_mpg'], df['MSRP'])\n",
    "ax3.set_title('city_mpg and MSRP')\n",
    "ax4.scatter(df['Popularity'], df['MSRP'])\n",
    "ax4.set_title('Popularity and MSRP')\n",
    "\n",
    "\n",
    "plt.show()"
   ]
  },
  {
   "cell_type": "markdown",
   "id": "525b3365-4a99-46e3-bfa2-1e4a4f0151a3",
   "metadata": {},
   "source": [
    "- none of the features is linear and Number_of_doors with Popularity seems more like categorical features\n",
    "- we can also see problems with outliners"
   ]
  },
  {
   "cell_type": "markdown",
   "id": "a2b276a9-fe63-4316-bb46-088b8dcb9396",
   "metadata": {},
   "source": [
    "#### PDF of the target 'MSRP'"
   ]
  },
  {
   "cell_type": "code",
   "execution_count": 57,
   "id": "5f43d40c-3ecd-4578-92bd-0820e47cbb34",
   "metadata": {},
   "outputs": [
    {
     "data": {
      "image/png": "[encoded data removed]",
      "text/plain": [
       "<Figure size 640x480 with 1 Axes>"
      ]
     },
     "metadata": {},
     "output_type": "display_data"
    }
   ],
   "source": [
    "sns.histplot(df['MSRP'], kde=True);"
   ]
  },
  {
   "cell_type": "code",
   "execution_count": 54,
   "id": "f0a48d6b-86bf-4b03-8499-9efae87e10c1",
   "metadata": {},
   "outputs": [
    {
     "data": {
      "text/plain": [
       "11.765020294059902"
      ]
     },
     "execution_count": 54,
     "metadata": {},
     "output_type": "execute_result"
    }
   ],
   "source": [
    "# skewness\n",
    "\n",
    "df['MSRP'].skew()"
   ]
  },
  {
   "cell_type": "markdown",
   "id": "510bd1b9-f2d6-4dee-af6e-a1ea0870cb99",
   "metadata": {},
   "source": [
    "#### logarithm the target 'MSRP' to fix skewness and linearity with features"
   ]
  },
  {
   "cell_type": "code",
   "execution_count": 91,
   "id": "7c0e860f-54f0-4941-a7f5-cfc2053ecf56",
   "metadata": {},
   "outputs": [],
   "source": [
    "df['log_MSRP'] = np.log(df['MSRP'])"
   ]
  },
  {
   "cell_type": "code",
   "execution_count": 59,
   "id": "c05366df-15b3-4b78-a6c1-0f682150c99c",
   "metadata": {},
   "outputs": [
    {
     "data": {
      "image/png": "[encoded data removed]",
      "text/plain": [
       "<Figure size 640x480 with 1 Axes>"
      ]
     },
     "metadata": {},
     "output_type": "display_data"
    }
   ],
   "source": [
    "sns.histplot(df['log_MSRP'], kde=True);"
   ]
  },
  {
   "cell_type": "code",
   "execution_count": 68,
   "id": "a7592ff2-2a1e-4346-a7a1-fe7ecf7fefba",
   "metadata": {},
   "outputs": [
    {
     "data": {
      "text/plain": [
       "-0.9120799645427694"
      ]
     },
     "execution_count": 68,
     "metadata": {},
     "output_type": "execute_result"
    }
   ],
   "source": [
    "# skewness\n",
    "\n",
    "df['log_MSRP'].skew()"
   ]
  },
  {
   "cell_type": "code",
   "execution_count": 63,
   "id": "f5451330-f6b7-421a-a566-3477cd02ece8",
   "metadata": {},
   "outputs": [
    {
     "data": {
      "image/png": "[encoded data removed]",
      "text/plain": [
       "<Figure size 1500x300 with 4 Axes>"
      ]
     },
     "metadata": {},
     "output_type": "display_data"
    }
   ],
   "source": [
    "f, (ax1, ax2, ax3, ax4) = plt.subplots(1, 4, sharey=True, figsize =(15,3))\n",
    "ax1.scatter(df['Engine_HP'], df['log_MSRP'])\n",
    "ax1.set_title('Engine_HP and MSRP')\n",
    "ax2.scatter(df['Number_of_Doors'], df['log_MSRP'])\n",
    "ax2.set_title('Number_of_Doors and MSRP')\n",
    "ax3.scatter(df['city_mpg'], df['log_MSRP'])\n",
    "ax3.set_title('city_mpg and MSRP')\n",
    "ax4.scatter(df['Popularity'], df['log_MSRP'])\n",
    "ax4.set_title('Popularity and MSRP')\n",
    "\n",
    "\n",
    "plt.show()"
   ]
  },
  {
   "cell_type": "markdown",
   "id": "bcb98005-0c59-4f20-93de-7c2ad54209ad",
   "metadata": {},
   "source": [
    "- Number_of_doors and Popularity should be treated as categorical"
   ]
  },
  {
   "cell_type": "markdown",
   "id": "2f654542-999e-4d33-8e14-afacbab6961a",
   "metadata": {},
   "source": [
    "#### Converting 'Popularity' and 'number_of_doors' to categorical features"
   ]
  },
  {
   "cell_type": "code",
   "execution_count": 92,
   "id": "1359bb4a-c8cb-4686-9ce7-ad8e19bdfeb4",
   "metadata": {},
   "outputs": [],
   "source": [
    "bins = [0, 2.5, 3.5, 4]\n",
    "labels = [2,3,4]\n",
    "df['binned_Number_of_Doors'] = pd.cut(df['Number_of_Doors'], bins=bins, labels=labels)"
   ]
  },
  {
   "cell_type": "code",
   "execution_count": 93,
   "id": "51dcd039-5e1f-45f3-8bb4-505faecec6d7",
   "metadata": {},
   "outputs": [
    {
     "data": {
      "text/plain": [
       "4    8263\n",
       "2    3154\n",
       "3     395\n",
       "Name: binned_Number_of_Doors, dtype: int64"
      ]
     },
     "execution_count": 93,
     "metadata": {},
     "output_type": "execute_result"
    }
   ],
   "source": [
    "df['binned_Number_of_Doors'].value_counts()"
   ]
  },
  {
   "cell_type": "code",
   "execution_count": 94,
   "id": "7b8b6263-3938-4e15-8ed9-1b089154c0a0",
   "metadata": {},
   "outputs": [
    {
     "data": {
      "text/plain": [
       "array([3916, 3105,  819,  617, 1013, 2009,  870,  586,  436, 2774,  113,\n",
       "       2031,  416,   67,  210, 1715,  376,  549, 1439,  535, 2202,   26,\n",
       "        481, 5657, 1624, 1720,  520, 1385, 1851, 1158,   61,  640,  873,\n",
       "          2,  155,  204,   86,  238,  454,  259,  258,  613,  190,  105,\n",
       "         21,  130,  820], dtype=int64)"
      ]
     },
     "execution_count": 94,
     "metadata": {},
     "output_type": "execute_result"
    }
   ],
   "source": [
    "df['Popularity'].unique()"
   ]
  },
  {
   "cell_type": "code",
   "execution_count": 95,
   "id": "8ae0824e-4d4a-402c-8393-9f8d906f1c5e",
   "metadata": {},
   "outputs": [],
   "source": [
    "bins = [1, 549, 1385, 2009, 5657]\n",
    "labels = [549, 1385, 2009, 5657]\n",
    "df['binned_Popularity'] = pd.cut(df['Popularity'], bins=bins, labels=labels)"
   ]
  },
  {
   "cell_type": "code",
   "execution_count": 96,
   "id": "3dc8e5cc-f86a-4298-aabe-8a8de6d38b57",
   "metadata": {},
   "outputs": [
    {
     "data": {
      "text/plain": [
       "1385    3542\n",
       "549     3246\n",
       "5657    2788\n",
       "2009    2236\n",
       "Name: binned_Popularity, dtype: int64"
      ]
     },
     "execution_count": 96,
     "metadata": {},
     "output_type": "execute_result"
    }
   ],
   "source": [
    "df['binned_Popularity'].value_counts()"
   ]
  },
  {
   "cell_type": "code",
   "execution_count": 97,
   "id": "3c76052b-79f6-4c66-8d01-a169c1e8e52e",
   "metadata": {},
   "outputs": [],
   "source": [
    "df = df.drop(['Popularity', 'Number_of_Doors'], axis=1)"
   ]
  },
  {
   "cell_type": "code",
   "execution_count": 83,
   "id": "bceab41b-26f7-4b7e-b2fe-a3d264e2c1dc",
   "metadata": {},
   "outputs": [
    {
     "data": {
      "text/html": [
       "<div>\n",
       "<style scoped>\n",
       "    .dataframe tbody tr th:only-of-type {\n",
       "        vertical-align: middle;\n",
       "    }\n",
       "\n",
       "    .dataframe tbody tr th {\n",
       "        vertical-align: top;\n",
       "    }\n",
       "\n",
       "    .dataframe thead th {\n",
       "        text-align: right;\n",
       "    }\n",
       "</style>\n",
       "<table border=\"1\" class=\"dataframe\">\n",
       "  <thead>\n",
       "    <tr style=\"text-align: right;\">\n",
       "      <th></th>\n",
       "      <th>Make</th>\n",
       "      <th>Model</th>\n",
       "      <th>Engine_Fuel_Type</th>\n",
       "      <th>Engine_HP</th>\n",
       "      <th>Transmission_Type</th>\n",
       "      <th>Driven_Wheels</th>\n",
       "      <th>Vehicle_Size</th>\n",
       "      <th>Vehicle_Style</th>\n",
       "      <th>city_mpg</th>\n",
       "      <th>MSRP</th>\n",
       "      <th>log_MSRP</th>\n",
       "      <th>binned_Number_of_Doors</th>\n",
       "      <th>binned_Popularity</th>\n",
       "    </tr>\n",
       "  </thead>\n",
       "  <tbody>\n",
       "    <tr>\n",
       "      <th>0</th>\n",
       "      <td>BMW</td>\n",
       "      <td>1 Series M</td>\n",
       "      <td>premium unleaded (required)</td>\n",
       "      <td>335.0</td>\n",
       "      <td>MANUAL</td>\n",
       "      <td>rear wheel drive</td>\n",
       "      <td>Compact</td>\n",
       "      <td>Coupe</td>\n",
       "      <td>19</td>\n",
       "      <td>46135</td>\n",
       "      <td>10.739327</td>\n",
       "      <td>2</td>\n",
       "      <td>(2009.0, 5657.0]</td>\n",
       "    </tr>\n",
       "    <tr>\n",
       "      <th>1</th>\n",
       "      <td>BMW</td>\n",
       "      <td>1 Series</td>\n",
       "      <td>premium unleaded (required)</td>\n",
       "      <td>300.0</td>\n",
       "      <td>MANUAL</td>\n",
       "      <td>rear wheel drive</td>\n",
       "      <td>Compact</td>\n",
       "      <td>Convertible</td>\n",
       "      <td>19</td>\n",
       "      <td>40650</td>\n",
       "      <td>10.612754</td>\n",
       "      <td>2</td>\n",
       "      <td>(2009.0, 5657.0]</td>\n",
       "    </tr>\n",
       "    <tr>\n",
       "      <th>2</th>\n",
       "      <td>BMW</td>\n",
       "      <td>1 Series</td>\n",
       "      <td>premium unleaded (required)</td>\n",
       "      <td>300.0</td>\n",
       "      <td>MANUAL</td>\n",
       "      <td>rear wheel drive</td>\n",
       "      <td>Compact</td>\n",
       "      <td>Coupe</td>\n",
       "      <td>20</td>\n",
       "      <td>36350</td>\n",
       "      <td>10.500949</td>\n",
       "      <td>2</td>\n",
       "      <td>(2009.0, 5657.0]</td>\n",
       "    </tr>\n",
       "    <tr>\n",
       "      <th>3</th>\n",
       "      <td>BMW</td>\n",
       "      <td>1 Series</td>\n",
       "      <td>premium unleaded (required)</td>\n",
       "      <td>230.0</td>\n",
       "      <td>MANUAL</td>\n",
       "      <td>rear wheel drive</td>\n",
       "      <td>Compact</td>\n",
       "      <td>Coupe</td>\n",
       "      <td>18</td>\n",
       "      <td>29450</td>\n",
       "      <td>10.290449</td>\n",
       "      <td>2</td>\n",
       "      <td>(2009.0, 5657.0]</td>\n",
       "    </tr>\n",
       "    <tr>\n",
       "      <th>4</th>\n",
       "      <td>BMW</td>\n",
       "      <td>1 Series</td>\n",
       "      <td>premium unleaded (required)</td>\n",
       "      <td>230.0</td>\n",
       "      <td>MANUAL</td>\n",
       "      <td>rear wheel drive</td>\n",
       "      <td>Compact</td>\n",
       "      <td>Convertible</td>\n",
       "      <td>18</td>\n",
       "      <td>34500</td>\n",
       "      <td>10.448715</td>\n",
       "      <td>2</td>\n",
       "      <td>(2009.0, 5657.0]</td>\n",
       "    </tr>\n",
       "  </tbody>\n",
       "</table>\n",
       "</div>"
      ],
      "text/plain": [
       "  Make       Model             Engine_Fuel_Type  Engine_HP Transmission_Type  \\\n",
       "0  BMW  1 Series M  premium unleaded (required)      335.0            MANUAL   \n",
       "1  BMW    1 Series  premium unleaded (required)      300.0            MANUAL   \n",
       "2  BMW    1 Series  premium unleaded (required)      300.0            MANUAL   \n",
       "3  BMW    1 Series  premium unleaded (required)      230.0            MANUAL   \n",
       "4  BMW    1 Series  premium unleaded (required)      230.0            MANUAL   \n",
       "\n",
       "      Driven_Wheels Vehicle_Size Vehicle_Style  city_mpg   MSRP   log_MSRP  \\\n",
       "0  rear wheel drive      Compact         Coupe        19  46135  10.739327   \n",
       "1  rear wheel drive      Compact   Convertible        19  40650  10.612754   \n",
       "2  rear wheel drive      Compact         Coupe        20  36350  10.500949   \n",
       "3  rear wheel drive      Compact         Coupe        18  29450  10.290449   \n",
       "4  rear wheel drive      Compact   Convertible        18  34500  10.448715   \n",
       "\n",
       "  binned_Number_of_Doors binned_Popularity  \n",
       "0                      2  (2009.0, 5657.0]  \n",
       "1                      2  (2009.0, 5657.0]  \n",
       "2                      2  (2009.0, 5657.0]  \n",
       "3                      2  (2009.0, 5657.0]  \n",
       "4                      2  (2009.0, 5657.0]  "
      ]
     },
     "execution_count": 83,
     "metadata": {},
     "output_type": "execute_result"
    }
   ],
   "source": [
    "df.head()"
   ]
  },
  {
   "cell_type": "code",
   "execution_count": 98,
   "id": "d9dfdc73-6c65-47f8-a254-e3930a410f92",
   "metadata": {},
   "outputs": [
    {
     "data": {
      "image/png": "[encoded data removed]",
      "text/plain": [
       "<Figure size 1500x300 with 4 Axes>"
      ]
     },
     "metadata": {},
     "output_type": "display_data"
    }
   ],
   "source": [
    "f, (ax1, ax2, ax3, ax4) = plt.subplots(1, 4, sharey=True, figsize =(15,3))\n",
    "ax1.scatter(df['Engine_HP'], df['log_MSRP'])\n",
    "ax1.set_title('Engine_HP and MSRP')\n",
    "ax2.scatter(df['binned_Number_of_Doors'], df['log_MSRP'])\n",
    "ax2.set_title('Number_of_Doors and MSRP')\n",
    "ax3.scatter(df['city_mpg'], df['log_MSRP'])\n",
    "ax3.set_title('city_mpg and MSRP')\n",
    "ax4.scatter(df['binned_Popularity'], df['log_MSRP'])\n",
    "ax4.set_title('Popularity and MSRP')\n",
    "\n",
    "\n",
    "plt.show()"
   ]
  }
 ],
 "metadata": {
  "kernelspec": {
   "display_name": "Python 3 (ipykernel)",
   "language": "python",
   "name": "python3"
  },
  "language_info": {
   "codemirror_mode": {
    "name": "ipython",
    "version": 3
   },
   "file_extension": ".py",
   "mimetype": "text/x-python",
   "name": "python",
   "nbconvert_exporter": "python",
   "pygments_lexer": "ipython3",
   "version": "3.9.13"
  }
 },
 "nbformat": 4,
 "nbformat_minor": 5
}
